{
 "cells": [
  {
   "cell_type": "code",
   "execution_count": 1,
   "metadata": {},
   "outputs": [],
   "source": [
    "#import library\n",
    "from skimage.metrics import structural_similarity\n",
    "import cv2\n",
    "import numpy as np\n",
    "import pandas as pd\n",
    "import statistics \n",
    "import mplfinance as fplt\n",
    "from PIL import Image \n",
    "import pandas as pd\n",
    "from datetime import datetime"
   ]
  },
  {
   "cell_type": "code",
   "execution_count": 2,
   "metadata": {},
   "outputs": [],
   "source": [
    "#function to count number of black pixel \n",
    "def count_black(image):\n",
    "    white_count= np.sum(image == 255)\n",
    "    non_white_count = np.sum( image != 255)\n",
    "    \n",
    "    return white_count , non_white_count"
   ]
  },
  {
   "cell_type": "code",
   "execution_count": 3,
   "metadata": {},
   "outputs": [],
   "source": [
    "# to crop the image , x= stating x cordinate , y = starting y cordinate , n = total_len / no. of images\n",
    "def crop_image(image ,x,y,n):\n",
    "    crop_image=image[x*n : x*n + n , y*n : y*n +  n]\n",
    "    return crop_image\n",
    "    "
   ]
  },
  {
   "cell_type": "code",
   "execution_count": 4,
   "metadata": {},
   "outputs": [],
   "source": [
    "#convert image into grayscale \n",
    "# note dimension of image has been concert into 500,500 we can change it as per our need\n",
    "def preprocess(image):\n",
    "    img1 = cv2.resize(image,(700 ,700), interpolation = cv2.INTER_AREA)\n",
    "    img1 = cv2.cvtColor(img1, cv2.COLOR_BGR2GRAY)\n",
    "    return img1"
   ]
  },
  {
   "cell_type": "code",
   "execution_count": 7,
   "metadata": {},
   "outputs": [],
   "source": [
    "all_count={}"
   ]
  },
  {
   "cell_type": "code",
   "execution_count": 8,
   "metadata": {},
   "outputs": [],
   "source": [
    "for i in range(0,80000):\n",
    "    all_count[i]={}"
   ]
  },
  {
   "cell_type": "code",
   "execution_count": 9,
   "metadata": {},
   "outputs": [],
   "source": [
    "for k in range(0,80000):\n",
    "    img1 = preprocess(cv2.imread('./CroppedImages/Fig'+str(k)+'.png'))\n",
    "    for i in range(0,7):\n",
    "        for j in range(0,7):\n",
    "            all_count[k][str(i)+str(j)]= count_black(crop_image(img1 , i ,j ,100))\n",
    "         "
   ]
  },
  {
   "cell_type": "code",
   "execution_count": 10,
   "metadata": {},
   "outputs": [
    {
     "data": {
      "text/plain": [
       "{'00': (9400, 600),\n",
       " '01': (9800, 200),\n",
       " '02': (9800, 200),\n",
       " '03': (7164, 2836),\n",
       " '04': (9585, 415),\n",
       " '05': (9800, 200),\n",
       " '06': (9800, 200),\n",
       " '10': (8484, 1516),\n",
       " '11': (9682, 318),\n",
       " '12': (3641, 6359),\n",
       " '13': (3857, 6143),\n",
       " '14': (9244, 756),\n",
       " '15': (10000, 0),\n",
       " '16': (10000, 0),\n",
       " '20': (8400, 1600),\n",
       " '21': (3717, 6283),\n",
       " '22': (5834, 4166),\n",
       " '23': (4911, 5089),\n",
       " '24': (6216, 3784),\n",
       " '25': (10000, 0),\n",
       " '26': (10000, 0),\n",
       " '30': (7941, 2059),\n",
       " '31': (5490, 4510),\n",
       " '32': (9840, 160),\n",
       " '33': (8785, 1215),\n",
       " '34': (5534, 4466),\n",
       " '35': (7121, 2879),\n",
       " '36': (6905, 3095),\n",
       " '40': (9108, 892),\n",
       " '41': (9610, 390),\n",
       " '42': (10000, 0),\n",
       " '43': (10000, 0),\n",
       " '44': (6860, 3140),\n",
       " '45': (6347, 3653),\n",
       " '46': (6000, 4000),\n",
       " '50': (10000, 0),\n",
       " '51': (10000, 0),\n",
       " '52': (10000, 0),\n",
       " '53': (10000, 0),\n",
       " '54': (7892, 2108),\n",
       " '55': (8692, 1308),\n",
       " '56': (7032, 2968),\n",
       " '60': (10000, 0),\n",
       " '61': (10000, 0),\n",
       " '62': (10000, 0),\n",
       " '63': (10000, 0),\n",
       " '64': (9640, 360),\n",
       " '65': (9392, 608),\n",
       " '66': (9960, 40)}"
      ]
     },
     "execution_count": 10,
     "metadata": {},
     "output_type": "execute_result"
    }
   ],
   "source": [
    "all_count[10]"
   ]
  },
  {
   "cell_type": "code",
   "execution_count": 17,
   "metadata": {},
   "outputs": [],
   "source": [
    "for p in range(51000,80005):\n",
    "    \n",
    "    im = Image.open(r'Images/Fig' + str(p) +'.png') \n",
    "\n",
    "    # Setting the points for cropped image \n",
    "    left = 180\n",
    "    top = 70\n",
    "    right = 685\n",
    "    bottom = 470\n",
    "\n",
    "    # Cropped image of above dimension \n",
    "    # (It will not change orginal image) \n",
    "    im1 = im.crop((left, top, right, bottom)) \n",
    "\n",
    "    # Saves the image in images Folder \n",
    "    im1.save('./CroppedImages/Fig' +str(p) +'.png')"
   ]
  },
  {
   "cell_type": "code",
   "execution_count": 16,
   "metadata": {},
   "outputs": [],
   "source": [
    "a_file = open(\"data.pkl\", \"wb\")\n",
    "pickle.dump(all_count, a_file)\n",
    "a_file.close()\n",
    "\n",
    "a_file = open(\"data.pkl\", \"rb\")\n",
    "output = pickle.load(a_file)"
   ]
  },
  {
   "cell_type": "code",
   "execution_count": 2,
   "metadata": {},
   "outputs": [],
   "source": [
    "import pickle"
   ]
  },
  {
   "cell_type": "code",
   "execution_count": 48,
   "metadata": {},
   "outputs": [
    {
     "ename": "TypeError",
     "evalue": "file must have 'read' and 'readline' attributes",
     "output_type": "error",
     "traceback": [
      "\u001b[1;31m---------------------------------------------------------------------------\u001b[0m",
      "\u001b[1;31mTypeError\u001b[0m                                 Traceback (most recent call last)",
      "\u001b[1;32m<ipython-input-48-37b996848392>\u001b[0m in \u001b[0;36m<module>\u001b[1;34m\u001b[0m\n\u001b[1;32m----> 1\u001b[1;33m \u001b[0mpickle\u001b[0m\u001b[1;33m.\u001b[0m\u001b[0mload\u001b[0m\u001b[1;33m(\u001b[0m\u001b[1;34m\"data.pkl\"\u001b[0m\u001b[1;33m)\u001b[0m\u001b[1;33m\u001b[0m\u001b[1;33m\u001b[0m\u001b[0m\n\u001b[0m",
      "\u001b[1;31mTypeError\u001b[0m: file must have 'read' and 'readline' attributes"
     ]
    }
   ],
   "source": [
    "pickle.load(\"data.pkl\")"
   ]
  },
  {
   "cell_type": "code",
   "execution_count": 1,
   "metadata": {},
   "outputs": [
    {
     "ename": "NameError",
     "evalue": "name 'pickle' is not defined",
     "output_type": "error",
     "traceback": [
      "\u001b[1;31m---------------------------------------------------------------------------\u001b[0m",
      "\u001b[1;31mNameError\u001b[0m                                 Traceback (most recent call last)",
      "\u001b[1;32m<ipython-input-1-ca2ffa3aeba3>\u001b[0m in \u001b[0;36m<module>\u001b[1;34m\u001b[0m\n\u001b[0;32m      1\u001b[0m \u001b[1;32mwith\u001b[0m \u001b[0mopen\u001b[0m\u001b[1;33m(\u001b[0m\u001b[1;34m'data.pkl'\u001b[0m\u001b[1;33m,\u001b[0m \u001b[1;34m'rb'\u001b[0m\u001b[1;33m)\u001b[0m \u001b[1;32mas\u001b[0m \u001b[0mf\u001b[0m\u001b[1;33m:\u001b[0m\u001b[1;33m\u001b[0m\u001b[1;33m\u001b[0m\u001b[0m\n\u001b[1;32m----> 2\u001b[1;33m     \u001b[0mdata9\u001b[0m \u001b[1;33m=\u001b[0m \u001b[0mpickle\u001b[0m\u001b[1;33m.\u001b[0m\u001b[0mload\u001b[0m\u001b[1;33m(\u001b[0m\u001b[0mf\u001b[0m\u001b[1;33m)\u001b[0m\u001b[1;33m\u001b[0m\u001b[1;33m\u001b[0m\u001b[0m\n\u001b[0m",
      "\u001b[1;31mNameError\u001b[0m: name 'pickle' is not defined"
     ]
    }
   ],
   "source": [
    "with open('data.pkl', 'rb') as f:\n",
    "    data9 = pickle.load(f)"
   ]
  },
  {
   "cell_type": "code",
   "execution_count": 51,
   "metadata": {},
   "outputs": [
    {
     "data": {
      "text/plain": [
       "{'00': (9800, 200),\n",
       " '01': (9800, 200),\n",
       " '02': (9800, 200),\n",
       " '03': (9800, 200),\n",
       " '04': (9795, 205),\n",
       " '05': (9223, 777),\n",
       " '06': (7838, 2162),\n",
       " '10': (10000, 0),\n",
       " '11': (10000, 0),\n",
       " '12': (10000, 0),\n",
       " '13': (9732, 268),\n",
       " '14': (7649, 2351),\n",
       " '15': (7505, 2495),\n",
       " '16': (8431, 1569),\n",
       " '20': (10000, 0),\n",
       " '21': (10000, 0),\n",
       " '22': (8949, 1051),\n",
       " '23': (6773, 3227),\n",
       " '24': (8975, 1025),\n",
       " '25': (9761, 239),\n",
       " '26': (10000, 0),\n",
       " '30': (10000, 0),\n",
       " '31': (9131, 869),\n",
       " '32': (5774, 4226),\n",
       " '33': (5500, 4500),\n",
       " '34': (9033, 967),\n",
       " '35': (10000, 0),\n",
       " '36': (10000, 0),\n",
       " '40': (7930, 2070),\n",
       " '41': (8320, 1680),\n",
       " '42': (7515, 2485),\n",
       " '43': (8271, 1729),\n",
       " '44': (10000, 0),\n",
       " '45': (10000, 0),\n",
       " '46': (10000, 0),\n",
       " '50': (4133, 5867),\n",
       " '51': (5190, 4810),\n",
       " '52': (10000, 0),\n",
       " '53': (9815, 185),\n",
       " '54': (10000, 0),\n",
       " '55': (10000, 0),\n",
       " '56': (10000, 0),\n",
       " '60': (8604, 1396),\n",
       " '61': (9493, 507),\n",
       " '62': (10000, 0),\n",
       " '63': (10000, 0),\n",
       " '64': (10000, 0),\n",
       " '65': (10000, 0),\n",
       " '66': (10000, 0)}"
      ]
     },
     "execution_count": 51,
     "metadata": {},
     "output_type": "execute_result"
    }
   ],
   "source": [
    "data[29000]"
   ]
  },
  {
   "cell_type": "code",
   "execution_count": 14,
   "metadata": {},
   "outputs": [
    {
     "data": {
      "text/plain": [
       "{'00': (9800, 200),\n",
       " '01': (9800, 200),\n",
       " '02': (9800, 200),\n",
       " '03': (9800, 200),\n",
       " '04': (9800, 200),\n",
       " '05': (9375, 625),\n",
       " '06': (9800, 200),\n",
       " '10': (10000, 0),\n",
       " '11': (10000, 0),\n",
       " '12': (10000, 0),\n",
       " '13': (10000, 0),\n",
       " '14': (9593, 407),\n",
       " '15': (6591, 3409),\n",
       " '16': (10000, 0),\n",
       " '20': (9434, 566),\n",
       " '21': (7373, 2627),\n",
       " '22': (9911, 89),\n",
       " '23': (9970, 30),\n",
       " '24': (9400, 600),\n",
       " '25': (6280, 3720),\n",
       " '26': (8919, 1081),\n",
       " '30': (8079, 1921),\n",
       " '31': (9191, 809),\n",
       " '32': (6293, 3707),\n",
       " '33': (9352, 648),\n",
       " '34': (8796, 1204),\n",
       " '35': (9507, 493),\n",
       " '36': (6500, 3500),\n",
       " '40': (9635, 365),\n",
       " '41': (10000, 0),\n",
       " '42': (9096, 904),\n",
       " '43': (6215, 3785),\n",
       " '44': (9251, 749),\n",
       " '45': (10000, 0),\n",
       " '46': (5759, 4241),\n",
       " '50': (10000, 0),\n",
       " '51': (10000, 0),\n",
       " '52': (10000, 0),\n",
       " '53': (9976, 24),\n",
       " '54': (10000, 0),\n",
       " '55': (10000, 0),\n",
       " '56': (7367, 2633),\n",
       " '60': (10000, 0),\n",
       " '61': (10000, 0),\n",
       " '62': (10000, 0),\n",
       " '63': (10000, 0),\n",
       " '64': (10000, 0),\n",
       " '65': (10000, 0),\n",
       " '66': (9640, 360)}"
      ]
     },
     "execution_count": 14,
     "metadata": {},
     "output_type": "execute_result"
    }
   ],
   "source": [
    "all_count[45674]"
   ]
  },
  {
   "cell_type": "code",
   "execution_count": null,
   "metadata": {},
   "outputs": [],
   "source": []
  }
 ],
 "metadata": {
  "kernelspec": {
   "display_name": "Python 3",
   "language": "python",
   "name": "python3"
  },
  "language_info": {
   "codemirror_mode": {
    "name": "ipython",
    "version": 3
   },
   "file_extension": ".py",
   "mimetype": "text/x-python",
   "name": "python",
   "nbconvert_exporter": "python",
   "pygments_lexer": "ipython3",
   "version": "3.8.5"
  }
 },
 "nbformat": 4,
 "nbformat_minor": 4
}
