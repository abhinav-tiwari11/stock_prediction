{
 "cells": [
  {
   "cell_type": "code",
   "execution_count": 141,
   "metadata": {},
   "outputs": [],
   "source": [
    "#import library\n",
    "from skimage.metrics import structural_similarity\n",
    "import cv2\n",
    "import numpy as np\n",
    "import pandas as pd\n",
    "import statistics "
   ]
  },
  {
   "cell_type": "code",
   "execution_count": 142,
   "metadata": {},
   "outputs": [],
   "source": [
    "#function to count number of black pixel \n",
    "def count_black(image):\n",
    "    white_count= np.sum(image == 255)\n",
    "    non_white_count = np.sum( image != 255)\n",
    "    \n",
    "    return white_count , non_white_count"
   ]
  },
  {
   "cell_type": "code",
   "execution_count": 143,
   "metadata": {},
   "outputs": [],
   "source": [
    "# to crop the image , x= stating x cordinate , y = starting y cordinate , n = total_len / no. of images\n",
    "def crop_image(image ,x,y,n):\n",
    "    crop_image=image[x*n : x*n + n , y*n : y*n +  n]\n",
    "    return crop_image\n",
    "    "
   ]
  },
  {
   "cell_type": "code",
   "execution_count": 144,
   "metadata": {},
   "outputs": [],
   "source": [
    "#convert image into grayscale \n",
    "# note dimension of image has been concert into 500,500 we can change it as per our need\n",
    "def preprocess(image):\n",
    "    img1 = cv2.resize(image,(500 ,500), interpolation = cv2.INTER_AREA)\n",
    "    img1 = cv2.cvtColor(img1, cv2.COLOR_BGR2GRAY)\n",
    "    return img1"
   ]
  },
  {
   "cell_type": "code",
   "execution_count": 145,
   "metadata": {},
   "outputs": [],
   "source": [
    "# match no.of black pixwl in both image and return , result(dictionary with zeros and ones , zero if two image have differnt\n",
    " # black pixel , diff = difference btw black pixels in images , count= to no. of similar images )\n",
    "def compare(image_detail , compare_image_detail):\n",
    "    result={}\n",
    "    diff={}\n",
    "    count=0\n",
    "    # note if we change dimension or  \"n in crop image we have to change range of i and j according to that \"\n",
    "    for i in range(0,5):\n",
    "        for j in range(0,5):\n",
    "            diff[str(i)+str(j)]= abs(image_detail[str(i)+str(j)][1] - compare_image_detail[str(i)+str(j)][1])\n",
    "     #note if we want are changing no. of split in image we should adjust \" limit \" accornding in below line \n",
    "     # note as per my observation a single line is equal to 200 count so decide limit according to that \n",
    "            if diff[str(i)+str(j)] < 100:\n",
    "                result[str(i)+str(j)]=1\n",
    "            else :\n",
    "                result[str(i)+str(j)]=0\n",
    "            if result[str(i)+str(j)]==1:\n",
    "                count=count+1\n",
    "    return result ,diff  ,count         "
   ]
  },
  {
   "cell_type": "code",
   "execution_count": 164,
   "metadata": {},
   "outputs": [],
   "source": [
    "# will find the expected return and variance for next two days \n",
    "# input data = ohlc data , sample_data = list of dates on which similar pattern has been observed \n",
    "def mean(sample_data , data):\n",
    "    ret =[]\n",
    "    pos_ret=[]\n",
    "    neg_ret=[]\n",
    "    pos_count=0\n",
    "    neg_count =0 \n",
    "    postion_to_take =None\n",
    "    for i in sample_data:\n",
    "        ret.append(data['return'][i+1]+data['return'][i+2])\n",
    "        if (data['return'][i+1]+data['return'][i+2])  >0 :\n",
    "            pos_count = pos_count+1\n",
    "            pos_ret.append(data['return'][i+1]+data['return'][i+2])\n",
    "        else :\n",
    "            neg_count=neg_count+1\n",
    "            neg_ret.append(data['return'][i+1]+data['return'][i+2])\n",
    "    mean = statistics.mean(ret)\n",
    "    var = statistics.pstdev(ret)\n",
    "    if pos_count> neg_count :\n",
    "        postion_to_take = \"long\"\n",
    "    else :\n",
    "        postion_to_take = \"short\"\n",
    "    return mean , var ,ret , pos_count/len(sample_data) , neg_count/len(sample_data) , pos_ret , neg_ret ,postion_to_take"
   ]
  },
  {
   "cell_type": "code",
   "execution_count": 147,
   "metadata": {},
   "outputs": [],
   "source": [
    "# dict will store no. of black pixel in different segement of images\n",
    "image_detail={}\n"
   ]
  },
  {
   "cell_type": "code",
   "execution_count": 148,
   "metadata": {},
   "outputs": [],
   "source": [
    "# img to be search , converted into gray\n",
    "img1 = preprocess(cv2.imread('image/Fig858.png'))"
   ]
  },
  {
   "cell_type": "code",
   "execution_count": 149,
   "metadata": {},
   "outputs": [],
   "source": [
    "# break img1  into 25 small part and count no. of black pixel in each segment \n",
    "# if we want 100 or any other no. then change the image dimension from 500,500 to some other number and also change\n",
    "# the range of i anf j in below code\n",
    "for i in range(0,5):\n",
    "    for j in range(0,5):\n",
    "        image_detail[str(i)+str(j)]= count_black(crop_image(img1 , i ,j ,100))"
   ]
  },
  {
   "cell_type": "code",
   "execution_count": 150,
   "metadata": {},
   "outputs": [],
   "source": [
    "# dict will store the deatils() when we will compare img1 and image in dataset\n",
    "# please run this line aagin if you are comparing again \n",
    "diff_img = {}\n"
   ]
  },
  {
   "cell_type": "code",
   "execution_count": 154,
   "metadata": {},
   "outputs": [],
   "source": [
    "#note plz run above line before ,,,,,think why to run ???\n",
    "#note plz change the value 1300 according to no. of images you have \n",
    "for k in range(0,1300):\n",
    "    img2 =preprocess(cv2.imread(\"image/Fig\"+str(k)+\".png\"))\n",
    "    compare_image_detail={}\n",
    "# range of i and j should be change if we are changing split in image \n",
    "    for i in range(0,5):\n",
    "        for j in range(0,5):\n",
    "            compare_image_detail[str(i)+str(j)]= count_black(crop_image(img2 , i ,j ,100))\n",
    "    diff_img[str(k)]=compare(image_detail,compare_image_detail)        \n",
    "    "
   ]
  },
  {
   "cell_type": "code",
   "execution_count": 155,
   "metadata": {},
   "outputs": [],
   "source": [
    "# will store the dates on which similar image has being observed\n",
    "sample_data=[]"
   ]
  },
  {
   "cell_type": "code",
   "execution_count": 156,
   "metadata": {},
   "outputs": [],
   "source": [
    "# note please change the value 1300 and 16 better to take it 15 (decide acc. to no. of data point you got )\n",
    "# if ypu are getting more point change value to 18 or 17 in number of data points are less change it to 14 or 15\n",
    "for k in range(0,1300):\n",
    "     if diff_img[str(k)][2]>16:\n",
    "            sample_data.append(k)\n",
    "        "
   ]
  },
  {
   "cell_type": "code",
   "execution_count": null,
   "metadata": {},
   "outputs": [],
   "source": [
    "cv2.imshow(\"img1\",crop_image(img1,2,1,100))\n",
    "cv2.imshow(\"img2\",crop_image(img2,2,1,100))\n",
    "cv2.waitKey(0)"
   ]
  },
  {
   "cell_type": "code",
   "execution_count": 157,
   "metadata": {},
   "outputs": [],
   "source": [
    "#import data\n",
    "data= pd.read_csv('SBIN.csv',index_col=0).dropna().copy()\n",
    "data['return']=data['close'].pct_change()*100"
   ]
  },
  {
   "cell_type": "code",
   "execution_count": 158,
   "metadata": {},
   "outputs": [],
   "source": [
    "df = pd.read_csv('SBIN.csv',index_col=0).dropna().copy()\n",
    "df.index = pd.to_datetime(df.index)"
   ]
  },
  {
   "cell_type": "code",
   "execution_count": 165,
   "metadata": {},
   "outputs": [
    {
     "data": {
      "text/plain": [
       "(1.024424668645392,\n",
       " 1.2284557836399472,\n",
       " [-0.1781564286780113,\n",
       "  0.6945510419726797,\n",
       "  2.8693901523454413,\n",
       "  -1.0684157594400223,\n",
       "  1.3839905814543085,\n",
       "  0.4249093245289992,\n",
       "  2.3543001926742857,\n",
       "  1.7148282443054552],\n",
       " 0.75,\n",
       " 0.25,\n",
       " [0.6945510419726797,\n",
       "  2.8693901523454413,\n",
       "  1.3839905814543085,\n",
       "  0.4249093245289992,\n",
       "  2.3543001926742857,\n",
       "  1.7148282443054552],\n",
       " [-0.1781564286780113, -1.0684157594400223],\n",
       " 'long')"
      ]
     },
     "execution_count": 165,
     "metadata": {},
     "output_type": "execute_result"
    }
   ],
   "source": [
    " mean(sample_data , data)"
   ]
  },
  {
   "cell_type": "code",
   "execution_count": null,
   "metadata": {},
   "outputs": [],
   "source": []
  }
 ],
 "metadata": {
  "kernelspec": {
   "display_name": "Python 3",
   "language": "python",
   "name": "python3"
  },
  "language_info": {
   "codemirror_mode": {
    "name": "ipython",
    "version": 3
   },
   "file_extension": ".py",
   "mimetype": "text/x-python",
   "name": "python",
   "nbconvert_exporter": "python",
   "pygments_lexer": "ipython3",
   "version": "3.8.8"
  }
 },
 "nbformat": 4,
 "nbformat_minor": 4
}
