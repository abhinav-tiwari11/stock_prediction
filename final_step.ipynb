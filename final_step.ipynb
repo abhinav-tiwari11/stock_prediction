{
 "cells": [
  {
   "cell_type": "code",
   "execution_count": 1,
   "metadata": {},
   "outputs": [],
   "source": [
    "import pandas as pd\n",
    "import pickle"
   ]
  },
  {
   "cell_type": "code",
   "execution_count": 1,
   "metadata": {},
   "outputs": [],
   "source": [
    "from skimage.metrics import structural_similarity\n",
    "import cv2\n",
    "import numpy as np\n",
    "import pandas as pd\n",
    "from PIL import Image \n",
    "import statistics "
   ]
  },
  {
   "cell_type": "code",
   "execution_count": 2,
   "metadata": {},
   "outputs": [],
   "source": [
    "#function to count number of black pixel \n",
    "def count_black(image):\n",
    "    white_count= np.sum(image == 255)\n",
    "    non_white_count = np.sum( image != 255)\n",
    "    \n",
    "    return white_count , non_white_count"
   ]
  },
  {
   "cell_type": "code",
   "execution_count": 3,
   "metadata": {},
   "outputs": [],
   "source": [
    "# to crop the image , x= stating x cordinate , y = starting y cordinate , n = total_len / no. of images\n",
    "def crop_image(image ,x,y,n):\n",
    "    crop_image=image[x*n : x*n + n , y*n : y*n +  n]\n",
    "    return crop_image\n",
    "    "
   ]
  },
  {
   "cell_type": "code",
   "execution_count": 4,
   "metadata": {},
   "outputs": [],
   "source": [
    "#convert image into grayscale \n",
    "# note dimension of image has been concert into 500,500 we can change it as per our need\n",
    "def preprocess(image):\n",
    "    img1 = cv2.resize(image,(900 ,900), interpolation = cv2.INTER_AREA)\n",
    "    img1 = cv2.cvtColor(img1, cv2.COLOR_BGR2GRAY)\n",
    "    return img1"
   ]
  },
  {
   "cell_type": "code",
   "execution_count": 5,
   "metadata": {},
   "outputs": [],
   "source": [
    "# match no.of black pixwl in both image and return , result(dictionary with zeros and ones , zero if two image have differnt\n",
    "# black pixel , diff = difference btw black pixels in images , count= to no. of similar images )\n",
    "def compare(image_detail , compare_image_detail):\n",
    "    result={}\n",
    "    diff={}\n",
    "    count=0\n",
    "    # note if we change dimension or  \"n in crop image we have to change range of i and j according to that \"\n",
    "    for i in range(0,9):\n",
    "        for j in range(0,9):\n",
    "            diff[str(i)+str(j)]= abs(image_detail[str(i)+str(j)][1] - compare_image_detail[str(i)+str(j)][1])\n",
    "     #note if we want are changing no. of split in image we should adjust \" limit \" accornding in below line \n",
    "     # note as per my observation a single line is equal to 200 count so decide limit according to that \n",
    "            if diff[str(i)+str(j)] < 302:\n",
    "                result[str(i)+str(j)]=1\n",
    "            else :\n",
    "                result[str(i)+str(j)]=0\n",
    "            if result[str(i)+str(j)]==1:\n",
    "                count=count+1\n",
    "    return result ,diff  ,count         "
   ]
  },
  {
   "cell_type": "code",
   "execution_count": 6,
   "metadata": {},
   "outputs": [],
   "source": [
    "# dict will store no. of black pixel in different segement of images\n",
    "image_detail={}\n",
    "# The below code searches for matches of a particular image\n",
    "# convert the image to be searched into gray\n",
    "img1 = preprocess(cv2.imread('./croppedImages/Fig76191.png'))\n",
    "\n",
    "#Now we want to extract black pixel count from the selected image\n",
    "# break img1  into 25 small part and count no. of black pixel in each segment \n",
    "# if we want 100 or any other no. then change the image dimension from 500,500 to some other number and also change\n",
    "# the range of i anf j in below code\n",
    "for i in range(0,9):\n",
    "    for j in range(0,9):\n",
    "        image_detail[str(i)+str(j)]= count_black(crop_image(img1 , i ,j ,100))\n"
   ]
  },
  {
   "cell_type": "code",
   "execution_count": 9,
   "metadata": {
    "scrolled": true
   },
   "outputs": [
    {
     "data": {
      "text/plain": [
       "array([[241, 241, 241, ..., 241, 241, 241],\n",
       "       [241, 241, 241, ..., 241, 241, 241],\n",
       "       [252, 252, 252, ..., 252, 252, 252],\n",
       "       ...,\n",
       "       [255, 255, 255, ..., 255, 255, 255],\n",
       "       [255, 255, 255, ..., 255, 255, 255],\n",
       "       [255, 255, 255, ..., 255, 255, 255]], dtype=uint8)"
      ]
     },
     "execution_count": 9,
     "metadata": {},
     "output_type": "execute_result"
    }
   ],
   "source": [
    "img1   "
   ]
  },
  {
   "cell_type": "raw",
   "metadata": {},
   "source": [
    "# diff_img dict will store the differences between selected img1  and other images in dataset\n",
    "# please run this line aagin if you are comparing again \n",
    "diff_img = {}\n",
    "\n",
    "#Each time u try to find match for new images, u have to run above cell again\n",
    "\n",
    "#Select the value of k as per ur images amongst which u are trying to find the match\n",
    "for k in range(0,80000):\n",
    "    img2 =preprocess(cv2.imread(\"./CroppedImages/Fig\"+str(k)+\".png\"))\n",
    "    compare_image_detail={}\n",
    "# range of i and j should be change if we are changing split in image \n",
    "    for i in range(0,9):\n",
    "        for j in range(0,9):\n",
    "            compare_image_detail[str(i)+str(j)]= count_black(crop_image(img2 , i ,j ,100))\n",
    "    diff_img[str(k)]=compare(image_detail,compare_image_detail)        \n",
    "    "
   ]
  },
  {
   "cell_type": "code",
   "execution_count": 36,
   "metadata": {},
   "outputs": [],
   "source": [
    "import pickle\n",
    "\n",
    "# read python dict back from the file\n",
    "pkl_file = open('data.pkl', 'rb')\n",
    "data = pickle.load(pkl_file)\n",
    "pkl_file.close()"
   ]
  },
  {
   "cell_type": "code",
   "execution_count": 125,
   "metadata": {},
   "outputs": [],
   "source": [
    "diff_imag={}\n",
    "for k in range(0,80000):\n",
    "    diff_imag[k]=compare(image_detail,data[k])"
   ]
  },
  {
   "cell_type": "code",
   "execution_count": 130,
   "metadata": {},
   "outputs": [],
   "source": [
    "# will store the dates on which similar image has being observed\n",
    "sample_data=[]\n",
    "# note please change the value 1300 and 16 better to take it 15 (decide acc. to no. of data point you got )\n",
    "# if ypu are getting more point change value to 18 or 17 in number of data points are less change it to 14 or 15\n",
    "for k in range(0,80000):\n",
    "     if diff_imag[k][2]>54:\n",
    "            sample_data.append(k)\n",
    "        "
   ]
  },
  {
   "cell_type": "code",
   "execution_count": 131,
   "metadata": {},
   "outputs": [
    {
     "data": {
      "text/plain": [
       "[20577, 39957, 54859, 76191]"
      ]
     },
     "execution_count": 131,
     "metadata": {},
     "output_type": "execute_result"
    }
   ],
   "source": [
    "sample_data"
   ]
  },
  {
   "cell_type": "code",
   "execution_count": 6,
   "metadata": {},
   "outputs": [],
   "source": [
    "# to crop the image , x= stating x cordinate , y = starting y cordinate , n = total_len / no. of images\n",
    "image = preprocess(cv2.imread('./Images/Fig104005.png')) \n",
    "cv2.imshow('img',image)\n",
    "cv2.waitKey(0) \n",
    "cv2.destroyAllWindows() \n"
   ]
  },
  {
   "cell_type": "code",
   "execution_count": 32,
   "metadata": {},
   "outputs": [],
   "source": [
    "image=cv2.imread('./Images/Fig104005.png')\n",
    " \n",
    "cv2.imshow('img',crop_image(image,60,100,5))\n",
    "cv2.waitKey(0) \n",
    "cv2.destroyAllWindows() \n"
   ]
  },
  {
   "cell_type": "code",
   "execution_count": 45,
   "metadata": {},
   "outputs": [],
   "source": [
    "cv2.imshow('img',(crop_image(image,15,10,25)))\n",
    "cv2.waitKey(0) \n",
    "cv2.destroyAllWindows() \n"
   ]
  },
  {
   "cell_type": "code",
   "execution_count": 12,
   "metadata": {},
   "outputs": [],
   "source": [
    "for p in range(0,1980):\n",
    "    \n",
    "    im = Image.open(r'colored_images/Fig' + str(p) +'.png') \n",
    "\n",
    "    # Setting the points for cropped image \n",
    "    left = 180\n",
    "    top = 72\n",
    "    right = 685\n",
    "    bottom = 470\n",
    "\n",
    "    # Cropped image of above dimension \n",
    "    # (It will not change orginal image) \n",
    "    im1 = im.crop((left, top, right, bottom)) \n",
    "\n",
    "    # Saves the image in images Folder \n",
    "    im1.save('./cropped_colored/Fig' +str(p) +'.png')"
   ]
  },
  {
   "cell_type": "code",
   "execution_count": 41,
   "metadata": {},
   "outputs": [],
   "source": [
    "image=cv2.imread('./cropped_colored/Fig20.png')\n",
    "image = cv2.resize(image,(700 ,700))\n",
    "cv2.imshow('img',(image))\n",
    "cv2.waitKey(0) \n",
    "cv2.destroyAllWindows() \n"
   ]
  },
  {
   "cell_type": "code",
   "execution_count": 7,
   "metadata": {},
   "outputs": [],
   "source": [
    "image_info={}"
   ]
  },
  {
   "cell_type": "code",
   "execution_count": 48,
   "metadata": {},
   "outputs": [],
   "source": [
    "cv2.imshow('img',crop_image(image ,6,0,100))\n",
    "cv2.waitKey(0) \n",
    "cv2.destroyAllWindows() \n"
   ]
  },
  {
   "cell_type": "code",
   "execution_count": 34,
   "metadata": {},
   "outputs": [
    {
     "data": {
      "text/plain": [
       "array([[[ 25, 140,  25],\n",
       "        [ 25, 140,  25],\n",
       "        [ 25, 140,  25],\n",
       "        ...,\n",
       "        [255, 255, 255],\n",
       "        [255, 255, 255],\n",
       "        [255, 255, 255]],\n",
       "\n",
       "       [[ 25, 140,  25],\n",
       "        [ 25, 140,  25],\n",
       "        [ 25, 140,  25],\n",
       "        ...,\n",
       "        [255, 255, 255],\n",
       "        [255, 255, 255],\n",
       "        [255, 255, 255]],\n",
       "\n",
       "       [[ 25, 140,  25],\n",
       "        [ 25, 140,  25],\n",
       "        [ 25, 140,  25],\n",
       "        ...,\n",
       "        [255, 255, 255],\n",
       "        [255, 255, 255],\n",
       "        [255, 255, 255]],\n",
       "\n",
       "       ...,\n",
       "\n",
       "       [[ 25, 140,  25],\n",
       "        [ 25, 140,  25],\n",
       "        [ 25, 140,  25],\n",
       "        ...,\n",
       "        [255, 255, 255],\n",
       "        [255, 255, 255],\n",
       "        [255, 255, 255]],\n",
       "\n",
       "       [[ 25, 140,  25],\n",
       "        [ 25, 140,  25],\n",
       "        [ 25, 140,  25],\n",
       "        ...,\n",
       "        [255, 255, 255],\n",
       "        [255, 255, 255],\n",
       "        [255, 255, 255]],\n",
       "\n",
       "       [[ 25, 140,  25],\n",
       "        [ 25, 140,  25],\n",
       "        [ 25, 140,  25],\n",
       "        ...,\n",
       "        [255, 255, 255],\n",
       "        [255, 255, 255],\n",
       "        [255, 255, 255]]], dtype=uint8)"
      ]
     },
     "execution_count": 34,
     "metadata": {},
     "output_type": "execute_result"
    }
   ],
   "source": [
    "crop_image(image ,24,3,25)"
   ]
  },
  {
   "cell_type": "code",
   "execution_count": 44,
   "metadata": {},
   "outputs": [],
   "source": [
    "def pixel_count(image):\n",
    "    red =0\n",
    "    green=0 \n",
    "    white=0\n",
    "    black =0\n",
    "    x=len(image[0])\n",
    "    y=len(image)\n",
    "    \n",
    "    for i in range(0,y):\n",
    "        for j in range(0,x):\n",
    "            if image[i][j][2] >=150:\n",
    "                if image[i][j][1] <100:\n",
    "                    red=red+1\n",
    "                else :\n",
    "                    white=white+1\n",
    "            elif image[i][j][1] == 140 :\n",
    "                if image[i][j][0] ==25 :\n",
    "                    green=green+1\n",
    "            else: \n",
    "                if image[i][j][1]==0:\n",
    "                    black=black+1\n",
    "                \n",
    "    pixel = [red,green,white,black] \n",
    "    return pixel"
   ]
  },
  {
   "cell_type": "code",
   "execution_count": 47,
   "metadata": {},
   "outputs": [
    {
     "data": {
      "text/plain": [
       "[1008, 1475, 6611, 2]"
      ]
     },
     "execution_count": 47,
     "metadata": {},
     "output_type": "execute_result"
    }
   ],
   "source": [
    "pixel_count(crop_image(image ,6,0,100))"
   ]
  },
  {
   "cell_type": "code",
   "execution_count": 66,
   "metadata": {},
   "outputs": [
    {
     "data": {
      "text/plain": [
       "255"
      ]
     },
     "execution_count": 66,
     "metadata": {},
     "output_type": "execute_result"
    }
   ],
   "source": []
  },
  {
   "cell_type": "code",
   "execution_count": null,
   "metadata": {},
   "outputs": [],
   "source": [
    "if image[i][j][2] >=150:\n",
    "                if image[i][j][1] <100:\n",
    "                    red=red+1\n",
    "                else :\n",
    "                    white=white+1\n",
    "            elif image[i][j][1] == 140 :\n",
    "                if image[i][j][0] ==25 :\n",
    "                    green=green+1\n",
    "            else: \n",
    "                if image[i][j][1]<100:\n",
    "                    black=black+1"
   ]
  }
 ],
 "metadata": {
  "kernelspec": {
   "display_name": "Python 3",
   "language": "python",
   "name": "python3"
  },
  "language_info": {
   "codemirror_mode": {
    "name": "ipython",
    "version": 3
   },
   "file_extension": ".py",
   "mimetype": "text/x-python",
   "name": "python",
   "nbconvert_exporter": "python",
   "pygments_lexer": "ipython3",
   "version": "3.8.5"
  }
 },
 "nbformat": 4,
 "nbformat_minor": 4
}
