{
 "cells": [
  {
   "cell_type": "code",
   "execution_count": 1,
   "metadata": {},
   "outputs": [],
   "source": [
    "from skimage.metrics import structural_similarity\n",
    "import cv2\n",
    "import numpy as np\n",
    "import pandas as pd\n",
    "from PIL import Image \n",
    "import statistics "
   ]
  },
  {
   "cell_type": "code",
   "execution_count": 2,
   "metadata": {},
   "outputs": [],
   "source": [
    "# to crop the image , x= stating x cordinate , y = starting y cordinate , n = total_len / no. of images\n",
    "def crop_image(image ,x,y,n):\n",
    "    crop_image=image[x*n : x*n + n , y*n : y*n +  n]\n",
    "    return crop_image\n",
    "    "
   ]
  },
  {
   "cell_type": "code",
   "execution_count": 138,
   "metadata": {},
   "outputs": [],
   "source": [
    "image=cv2.imread('./cropped_colored/Fig21.png')\n",
    "image = cv2.resize(image,(700 ,700))\n"
   ]
  },
  {
   "cell_type": "code",
   "execution_count": 130,
   "metadata": {},
   "outputs": [],
   "source": [
    "compare_image=cv2.imread('./cropped_colored/Fig106.png')\n",
    "compare_image = cv2.resize(compare_image,(700 ,700))\n"
   ]
  },
  {
   "cell_type": "code",
   "execution_count": 92,
   "metadata": {},
   "outputs": [],
   "source": [
    "cv2.imshow('img',(compare_image))\n",
    "cv2.waitKey(0) \n",
    "cv2.destroyAllWindows() \n"
   ]
  },
  {
   "cell_type": "code",
   "execution_count": 114,
   "metadata": {},
   "outputs": [],
   "source": [
    "def pixel_count (image):\n",
    "    red =0\n",
    "    green=0\n",
    "    white=0\n",
    "    for i in range(0,len(image)):\n",
    "        for j in range(0,len(image[0])):\n",
    "            if np.sum(image[i][j])  < 230:\n",
    "                green =green +1\n",
    "            elif    230<(np.sum(image[i][j])) <400:\n",
    "                red =red+1\n",
    "            else :\n",
    "                white=white+1\n",
    "    \n",
    "    return red ,green,white\n",
    "        "
   ]
  },
  {
   "cell_type": "code",
   "execution_count": 115,
   "metadata": {},
   "outputs": [],
   "source": [
    "def compare (img_detail ,compare_image_detail):\n",
    "    \n",
    "    \n",
    "    if abs(img_detail[0] - compare_image_detail[0] < 100) and  abs(img_detail[1] - compare_image_detail[1] <100) and abs(img_detail[2] - compare_image_detail[2]<100) :\n",
    "        return abs(img_detail[0] - compare_image_detail[0]) ,abs(img_detail[1] - compare_image_detail[1]) ,abs(img_detail[2] - compare_image_detail[2]) , 1\n",
    "    else :\n",
    "        return abs(img_detail[0] - compare_image_detail[0]) ,abs(img_detail[1] - compare_image_detail[1]) ,abs(img_detail[2] - compare_image_detail[2]) , 0"
   ]
  },
  {
   "cell_type": "code",
   "execution_count": 116,
   "metadata": {},
   "outputs": [],
   "source": [
    "def info_compare(image_detail ,compare_image_detail):\n",
    "    result ={}\n",
    "    count=0\n",
    "\n",
    "    for i in range(0,7):\n",
    "        for j in range(0,7):\n",
    "            \n",
    "            if compare(image_detail[str(i)+str(j)] ,compare_image_detail[str(i)+str(j)])[3]:\n",
    "                count=count+1;\n",
    "                result[str(i)+str(j)]=compare(image_detail[str(i)+str(j)] ,compare_image_detail[str(i)+str(j)])\n",
    "            else :\n",
    "                result[str(i)+str(j)]=compare(image_detail[str(i)+str(j)] ,compare_image_detail[str(i)+str(j)])\n",
    "                \n",
    "    return result , count          "
   ]
  },
  {
   "cell_type": "code",
   "execution_count": null,
   "metadata": {},
   "outputs": [],
   "source": []
  },
  {
   "cell_type": "markdown",
   "metadata": {},
   "source": []
  },
  {
   "cell_type": "code",
   "execution_count": 117,
   "metadata": {},
   "outputs": [],
   "source": [
    "def image_details (image , n):\n",
    "    img_detail={}\n",
    "    for x in range(0,7):\n",
    "        for y in range(0,7):\n",
    "            img_detail[str(x)+str(y)]=pixel_count(image[x*n : x*n + n , y*n : y*n +  n])\n",
    "    return img_detail"
   ]
  },
  {
   "cell_type": "code",
   "execution_count": 139,
   "metadata": {},
   "outputs": [],
   "source": [
    "image_detail={}\n",
    "compare_image_detail={}"
   ]
  },
  {
   "cell_type": "code",
   "execution_count": 140,
   "metadata": {},
   "outputs": [],
   "source": [
    "image_detail =image_details(image,100)"
   ]
  },
  {
   "cell_type": "code",
   "execution_count": 134,
   "metadata": {},
   "outputs": [],
   "source": [
    "compare_image_detail = image_details(compare_image ,100)\n",
    "\n",
    "\n",
    "\n",
    "\n",
    "\n",
    "\n"
   ]
  },
  {
   "cell_type": "code",
   "execution_count": 137,
   "metadata": {},
   "outputs": [
    {
     "data": {
      "text/plain": [
       "33"
      ]
     },
     "execution_count": 137,
     "metadata": {},
     "output_type": "execute_result"
    }
   ],
   "source": [
    "info_compare(image_detail,compare_image_detail)[1]"
   ]
  },
  {
   "cell_type": "code",
   "execution_count": 142,
   "metadata": {},
   "outputs": [
    {
     "data": {
      "text/plain": [
       "array([[[255, 255, 255],\n",
       "        [255, 255, 255],\n",
       "        [255, 255, 255],\n",
       "        ...,\n",
       "        [255, 255, 255],\n",
       "        [255, 255, 255],\n",
       "        [255, 255, 255]],\n",
       "\n",
       "       [[255, 255, 255],\n",
       "        [255, 255, 255],\n",
       "        [255, 255, 255],\n",
       "        ...,\n",
       "        [255, 255, 255],\n",
       "        [255, 255, 255],\n",
       "        [255, 255, 255]],\n",
       "\n",
       "       [[255, 255, 255],\n",
       "        [255, 255, 255],\n",
       "        [255, 255, 255],\n",
       "        ...,\n",
       "        [255, 255, 255],\n",
       "        [255, 255, 255],\n",
       "        [255, 255, 255]],\n",
       "\n",
       "       ...,\n",
       "\n",
       "       [[255, 255, 255],\n",
       "        [255, 255, 255],\n",
       "        [255, 255, 255],\n",
       "        ...,\n",
       "        [255, 255, 255],\n",
       "        [255, 255, 255],\n",
       "        [255, 255, 255]],\n",
       "\n",
       "       [[255, 255, 255],\n",
       "        [255, 255, 255],\n",
       "        [255, 255, 255],\n",
       "        ...,\n",
       "        [255, 255, 255],\n",
       "        [255, 255, 255],\n",
       "        [255, 255, 255]],\n",
       "\n",
       "       [[255, 255, 255],\n",
       "        [255, 255, 255],\n",
       "        [255, 255, 255],\n",
       "        ...,\n",
       "        [255, 255, 255],\n",
       "        [255, 255, 255],\n",
       "        [255, 255, 255]]], dtype=uint8)"
      ]
     },
     "execution_count": 142,
     "metadata": {},
     "output_type": "execute_result"
    }
   ],
   "source": [
    "image"
   ]
  },
  {
   "cell_type": "code",
   "execution_count": null,
   "metadata": {},
   "outputs": [],
   "source": []
  }
 ],
 "metadata": {
  "kernelspec": {
   "display_name": "Python 3",
   "language": "python",
   "name": "python3"
  },
  "language_info": {
   "codemirror_mode": {
    "name": "ipython",
    "version": 3
   },
   "file_extension": ".py",
   "mimetype": "text/x-python",
   "name": "python",
   "nbconvert_exporter": "python",
   "pygments_lexer": "ipython3",
   "version": "3.8.5"
  }
 },
 "nbformat": 4,
 "nbformat_minor": 4
}
